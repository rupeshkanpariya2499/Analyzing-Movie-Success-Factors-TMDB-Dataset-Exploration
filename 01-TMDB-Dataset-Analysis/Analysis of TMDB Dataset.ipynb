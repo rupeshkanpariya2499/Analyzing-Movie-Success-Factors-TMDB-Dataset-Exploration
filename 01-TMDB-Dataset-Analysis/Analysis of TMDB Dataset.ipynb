{
 "cells": [
  {
   "cell_type": "markdown",
   "metadata": {},
   "source": [
    "# Project: Investigate a Dataset - [The TMDB movie data]\n",
    "\n",
    "## Table of Contents\n",
    "<ul>\n",
    "<li><a href=\"#intro\">Introduction</a></li>\n",
    "<li><a href=\"#wrangling\">Data Wrangling</a></li>\n",
    "<li><a href=\"#Cleaning\">Data Cleaning</a></li>\n",
    "<li><a href=\"#eda\">Exploratory Data Analysis</a></li>\n",
    "<li><a href=\"#conclusions\">Conclusions</a></li>\n",
    "</ul>\n",
    "\n",
    "___"
   ]
  },
  {
   "cell_type": "markdown",
   "metadata": {
    "tags": []
   },
   "source": [
    "<a id='intro'></a>\n",
    "## Introduction\n",
    "\n",
    "### Dataset Description \n",
    "This data set contains information about 10,000 movies extracted from [TMDB](https://www.themoviedb.org/). The dataset contains movies from 1960 to 2015. Including user ratings and revenue. The Original data is from [Kaggle](https://www.kaggle.com/tmdb/tmdb-movie-metadata)\n",
    "\n",
    "### Columns Description:\n",
    "- `id, imdb_id`: unique id or imdb id for each movie on TMDB\n",
    "- `popularity`: a metric used to measure the popularity of the movie.\n",
    "- `budget`:the total budget of the moviein USD.\n",
    "- `revenue`:the total revenue of the movie in USD.\n",
    "- `original_title`: the original title of the movie.\n",
    "- `cast`:the names of the cast of the movie separated by \"|\".\n",
    "- `homepage`: the website of the movie (if it existed).\n",
    "- `director`:name(s) of the director(s) of the movie (separated by \"|\" if there are more than one director).\n",
    "- `tagline`:a catchphrase describing the movie.\n",
    "- `keywords`: keywords related to the movie.\n",
    "- `overview`:summary of the plot of the movie.\n",
    "- `runtime`:total runtime of the movie in minutes.\n",
    "- `genres`: genres of the movie separated by \"|\".\n",
    "- `production_companies`:production compan(y/ies) of the movie.\n",
    "- `release_date`:release date of the movie.\n",
    "- `vote_count`:number of voters of te movie.\n",
    "- `vote_average`:the average user rating of the movie\n",
    "- `release_year`:release year of the movie (from 1960 to 2015)\n",
    "- `budget_adj`:the total budget of the moviein USD in terms of 2010 dollars, accounting for inflation over time.\n",
    "- `revenue_adj`:the total budget of the movie in USD in terms of 2010 dollars, accounting for inflation over time.\n",
    "\n",
    "### Questions for Analysis:\n",
    "- Do movies with high popularity achive high revenue?\n",
    "- What are the most filmed genres in this whole dataset?\n",
    "- Is there a correlation between a movie budget and its revenue?"
   ]
  },
  {
   "cell_type": "markdown",
   "metadata": {},
   "source": [
    "___\n",
    "## Environment set-up"
   ]
  },
  {
   "cell_type": "code",
   "execution_count": null,
   "metadata": {},
   "outputs": [],
   "source": [
    "# To import libraries\n",
    "import pandas as pd\n",
    "import numpy as np\n",
    "import matplotlib.pyplot as plt\n",
    "import seaborn as sns"
   ]
  },
  {
   "cell_type": "markdown",
   "metadata": {},
   "source": [
    "<a id='wrangling'></a>\n",
    "___\n",
    "## Data Wrangling\n",
    "In this section, we would load our desired data from a flat csv file using `pandas` to further explore our data."
   ]
  },
  {
   "cell_type": "code",
   "execution_count": 94,
   "metadata": {},
   "outputs": [
    {
     "data": {
      "text/html": [
       "<div>\n",
       "<style scoped>\n",
       "    .dataframe tbody tr th:only-of-type {\n",
       "        vertical-align: middle;\n",
       "    }\n",
       "\n",
       "    .dataframe tbody tr th {\n",
       "        vertical-align: top;\n",
       "    }\n",
       "\n",
       "    .dataframe thead th {\n",
       "        text-align: right;\n",
       "    }\n",
       "</style>\n",
       "<table border=\"1\" class=\"dataframe\">\n",
       "  <thead>\n",
       "    <tr style=\"text-align: right;\">\n",
       "      <th></th>\n",
       "      <th>id</th>\n",
       "      <th>imdb_id</th>\n",
       "      <th>popularity</th>\n",
       "      <th>budget</th>\n",
       "      <th>revenue</th>\n",
       "      <th>original_title</th>\n",
       "      <th>cast</th>\n",
       "      <th>homepage</th>\n",
       "      <th>director</th>\n",
       "      <th>tagline</th>\n",
       "      <th>...</th>\n",
       "      <th>overview</th>\n",
       "      <th>runtime</th>\n",
       "      <th>genres</th>\n",
       "      <th>production_companies</th>\n",
       "      <th>release_date</th>\n",
       "      <th>vote_count</th>\n",
       "      <th>vote_average</th>\n",
       "      <th>release_year</th>\n",
       "      <th>budget_adj</th>\n",
       "      <th>revenue_adj</th>\n",
       "    </tr>\n",
       "  </thead>\n",
       "  <tbody>\n",
       "    <tr>\n",
       "      <th>0</th>\n",
       "      <td>135397</td>\n",
       "      <td>tt0369610</td>\n",
       "      <td>32.985763</td>\n",
       "      <td>150000000</td>\n",
       "      <td>1513528810</td>\n",
       "      <td>Jurassic World</td>\n",
       "      <td>Chris Pratt|Bryce Dallas Howard|Irrfan Khan|Vi...</td>\n",
       "      <td>http://www.jurassicworld.com/</td>\n",
       "      <td>Colin Trevorrow</td>\n",
       "      <td>The park is open.</td>\n",
       "      <td>...</td>\n",
       "      <td>Twenty-two years after the events of Jurassic ...</td>\n",
       "      <td>124</td>\n",
       "      <td>Action|Adventure|Science Fiction|Thriller</td>\n",
       "      <td>Universal Studios|Amblin Entertainment|Legenda...</td>\n",
       "      <td>6/9/15</td>\n",
       "      <td>5562</td>\n",
       "      <td>6.5</td>\n",
       "      <td>2015</td>\n",
       "      <td>1.379999e+08</td>\n",
       "      <td>1.392446e+09</td>\n",
       "    </tr>\n",
       "    <tr>\n",
       "      <th>1</th>\n",
       "      <td>76341</td>\n",
       "      <td>tt1392190</td>\n",
       "      <td>28.419936</td>\n",
       "      <td>150000000</td>\n",
       "      <td>378436354</td>\n",
       "      <td>Mad Max: Fury Road</td>\n",
       "      <td>Tom Hardy|Charlize Theron|Hugh Keays-Byrne|Nic...</td>\n",
       "      <td>http://www.madmaxmovie.com/</td>\n",
       "      <td>George Miller</td>\n",
       "      <td>What a Lovely Day.</td>\n",
       "      <td>...</td>\n",
       "      <td>An apocalyptic story set in the furthest reach...</td>\n",
       "      <td>120</td>\n",
       "      <td>Action|Adventure|Science Fiction|Thriller</td>\n",
       "      <td>Village Roadshow Pictures|Kennedy Miller Produ...</td>\n",
       "      <td>5/13/15</td>\n",
       "      <td>6185</td>\n",
       "      <td>7.1</td>\n",
       "      <td>2015</td>\n",
       "      <td>1.379999e+08</td>\n",
       "      <td>3.481613e+08</td>\n",
       "    </tr>\n",
       "    <tr>\n",
       "      <th>2</th>\n",
       "      <td>262500</td>\n",
       "      <td>tt2908446</td>\n",
       "      <td>13.112507</td>\n",
       "      <td>110000000</td>\n",
       "      <td>295238201</td>\n",
       "      <td>Insurgent</td>\n",
       "      <td>Shailene Woodley|Theo James|Kate Winslet|Ansel...</td>\n",
       "      <td>http://www.thedivergentseries.movie/#insurgent</td>\n",
       "      <td>Robert Schwentke</td>\n",
       "      <td>One Choice Can Destroy You</td>\n",
       "      <td>...</td>\n",
       "      <td>Beatrice Prior must confront her inner demons ...</td>\n",
       "      <td>119</td>\n",
       "      <td>Adventure|Science Fiction|Thriller</td>\n",
       "      <td>Summit Entertainment|Mandeville Films|Red Wago...</td>\n",
       "      <td>3/18/15</td>\n",
       "      <td>2480</td>\n",
       "      <td>6.3</td>\n",
       "      <td>2015</td>\n",
       "      <td>1.012000e+08</td>\n",
       "      <td>2.716190e+08</td>\n",
       "    </tr>\n",
       "    <tr>\n",
       "      <th>3</th>\n",
       "      <td>140607</td>\n",
       "      <td>tt2488496</td>\n",
       "      <td>11.173104</td>\n",
       "      <td>200000000</td>\n",
       "      <td>2068178225</td>\n",
       "      <td>Star Wars: The Force Awakens</td>\n",
       "      <td>Harrison Ford|Mark Hamill|Carrie Fisher|Adam D...</td>\n",
       "      <td>http://www.starwars.com/films/star-wars-episod...</td>\n",
       "      <td>J.J. Abrams</td>\n",
       "      <td>Every generation has a story.</td>\n",
       "      <td>...</td>\n",
       "      <td>Thirty years after defeating the Galactic Empi...</td>\n",
       "      <td>136</td>\n",
       "      <td>Action|Adventure|Science Fiction|Fantasy</td>\n",
       "      <td>Lucasfilm|Truenorth Productions|Bad Robot</td>\n",
       "      <td>12/15/15</td>\n",
       "      <td>5292</td>\n",
       "      <td>7.5</td>\n",
       "      <td>2015</td>\n",
       "      <td>1.839999e+08</td>\n",
       "      <td>1.902723e+09</td>\n",
       "    </tr>\n",
       "    <tr>\n",
       "      <th>4</th>\n",
       "      <td>168259</td>\n",
       "      <td>tt2820852</td>\n",
       "      <td>9.335014</td>\n",
       "      <td>190000000</td>\n",
       "      <td>1506249360</td>\n",
       "      <td>Furious 7</td>\n",
       "      <td>Vin Diesel|Paul Walker|Jason Statham|Michelle ...</td>\n",
       "      <td>http://www.furious7.com/</td>\n",
       "      <td>James Wan</td>\n",
       "      <td>Vengeance Hits Home</td>\n",
       "      <td>...</td>\n",
       "      <td>Deckard Shaw seeks revenge against Dominic Tor...</td>\n",
       "      <td>137</td>\n",
       "      <td>Action|Crime|Thriller</td>\n",
       "      <td>Universal Pictures|Original Film|Media Rights ...</td>\n",
       "      <td>4/1/15</td>\n",
       "      <td>2947</td>\n",
       "      <td>7.3</td>\n",
       "      <td>2015</td>\n",
       "      <td>1.747999e+08</td>\n",
       "      <td>1.385749e+09</td>\n",
       "    </tr>\n",
       "    <tr>\n",
       "      <th>5</th>\n",
       "      <td>281957</td>\n",
       "      <td>tt1663202</td>\n",
       "      <td>9.110700</td>\n",
       "      <td>135000000</td>\n",
       "      <td>532950503</td>\n",
       "      <td>The Revenant</td>\n",
       "      <td>Leonardo DiCaprio|Tom Hardy|Will Poulter|Domhn...</td>\n",
       "      <td>http://www.foxmovies.com/movies/the-revenant</td>\n",
       "      <td>Alejandro GonzÃ¡lez IÃ±Ã¡rritu</td>\n",
       "      <td>(n. One who has returned, as if from the dead.)</td>\n",
       "      <td>...</td>\n",
       "      <td>In the 1820s, a frontiersman, Hugh Glass, sets...</td>\n",
       "      <td>156</td>\n",
       "      <td>Western|Drama|Adventure|Thriller</td>\n",
       "      <td>Regency Enterprises|Appian Way|CatchPlay|Anony...</td>\n",
       "      <td>12/25/15</td>\n",
       "      <td>3929</td>\n",
       "      <td>7.2</td>\n",
       "      <td>2015</td>\n",
       "      <td>1.241999e+08</td>\n",
       "      <td>4.903142e+08</td>\n",
       "    </tr>\n",
       "    <tr>\n",
       "      <th>6</th>\n",
       "      <td>87101</td>\n",
       "      <td>tt1340138</td>\n",
       "      <td>8.654359</td>\n",
       "      <td>155000000</td>\n",
       "      <td>440603537</td>\n",
       "      <td>Terminator Genisys</td>\n",
       "      <td>Arnold Schwarzenegger|Jason Clarke|Emilia Clar...</td>\n",
       "      <td>http://www.terminatormovie.com/</td>\n",
       "      <td>Alan Taylor</td>\n",
       "      <td>Reset the future</td>\n",
       "      <td>...</td>\n",
       "      <td>The year is 2029. John Connor, leader of the r...</td>\n",
       "      <td>125</td>\n",
       "      <td>Science Fiction|Action|Thriller|Adventure</td>\n",
       "      <td>Paramount Pictures|Skydance Productions</td>\n",
       "      <td>6/23/15</td>\n",
       "      <td>2598</td>\n",
       "      <td>5.8</td>\n",
       "      <td>2015</td>\n",
       "      <td>1.425999e+08</td>\n",
       "      <td>4.053551e+08</td>\n",
       "    </tr>\n",
       "    <tr>\n",
       "      <th>7</th>\n",
       "      <td>286217</td>\n",
       "      <td>tt3659388</td>\n",
       "      <td>7.667400</td>\n",
       "      <td>108000000</td>\n",
       "      <td>595380321</td>\n",
       "      <td>The Martian</td>\n",
       "      <td>Matt Damon|Jessica Chastain|Kristen Wiig|Jeff ...</td>\n",
       "      <td>http://www.foxmovies.com/movies/the-martian</td>\n",
       "      <td>Ridley Scott</td>\n",
       "      <td>Bring Him Home</td>\n",
       "      <td>...</td>\n",
       "      <td>During a manned mission to Mars, Astronaut Mar...</td>\n",
       "      <td>141</td>\n",
       "      <td>Drama|Adventure|Science Fiction</td>\n",
       "      <td>Twentieth Century Fox Film Corporation|Scott F...</td>\n",
       "      <td>9/30/15</td>\n",
       "      <td>4572</td>\n",
       "      <td>7.6</td>\n",
       "      <td>2015</td>\n",
       "      <td>9.935996e+07</td>\n",
       "      <td>5.477497e+08</td>\n",
       "    </tr>\n",
       "    <tr>\n",
       "      <th>8</th>\n",
       "      <td>211672</td>\n",
       "      <td>tt2293640</td>\n",
       "      <td>7.404165</td>\n",
       "      <td>74000000</td>\n",
       "      <td>1156730962</td>\n",
       "      <td>Minions</td>\n",
       "      <td>Sandra Bullock|Jon Hamm|Michael Keaton|Allison...</td>\n",
       "      <td>http://www.minionsmovie.com/</td>\n",
       "      <td>Kyle Balda|Pierre Coffin</td>\n",
       "      <td>Before Gru, they had a history of bad bosses</td>\n",
       "      <td>...</td>\n",
       "      <td>Minions Stuart, Kevin and Bob are recruited by...</td>\n",
       "      <td>91</td>\n",
       "      <td>Family|Animation|Adventure|Comedy</td>\n",
       "      <td>Universal Pictures|Illumination Entertainment</td>\n",
       "      <td>6/17/15</td>\n",
       "      <td>2893</td>\n",
       "      <td>6.5</td>\n",
       "      <td>2015</td>\n",
       "      <td>6.807997e+07</td>\n",
       "      <td>1.064192e+09</td>\n",
       "    </tr>\n",
       "    <tr>\n",
       "      <th>9</th>\n",
       "      <td>150540</td>\n",
       "      <td>tt2096673</td>\n",
       "      <td>6.326804</td>\n",
       "      <td>175000000</td>\n",
       "      <td>853708609</td>\n",
       "      <td>Inside Out</td>\n",
       "      <td>Amy Poehler|Phyllis Smith|Richard Kind|Bill Ha...</td>\n",
       "      <td>http://movies.disney.com/inside-out</td>\n",
       "      <td>Pete Docter</td>\n",
       "      <td>Meet the little voices inside your head.</td>\n",
       "      <td>...</td>\n",
       "      <td>Growing up can be a bumpy road, and it's no ex...</td>\n",
       "      <td>94</td>\n",
       "      <td>Comedy|Animation|Family</td>\n",
       "      <td>Walt Disney Pictures|Pixar Animation Studios|W...</td>\n",
       "      <td>6/9/15</td>\n",
       "      <td>3935</td>\n",
       "      <td>8.0</td>\n",
       "      <td>2015</td>\n",
       "      <td>1.609999e+08</td>\n",
       "      <td>7.854116e+08</td>\n",
       "    </tr>\n",
       "  </tbody>\n",
       "</table>\n",
       "<p>10 rows × 21 columns</p>\n",
       "</div>"
      ],
      "text/plain": [
       "       id    imdb_id  popularity     budget     revenue  \\\n",
       "0  135397  tt0369610   32.985763  150000000  1513528810   \n",
       "1   76341  tt1392190   28.419936  150000000   378436354   \n",
       "2  262500  tt2908446   13.112507  110000000   295238201   \n",
       "3  140607  tt2488496   11.173104  200000000  2068178225   \n",
       "4  168259  tt2820852    9.335014  190000000  1506249360   \n",
       "5  281957  tt1663202    9.110700  135000000   532950503   \n",
       "6   87101  tt1340138    8.654359  155000000   440603537   \n",
       "7  286217  tt3659388    7.667400  108000000   595380321   \n",
       "8  211672  tt2293640    7.404165   74000000  1156730962   \n",
       "9  150540  tt2096673    6.326804  175000000   853708609   \n",
       "\n",
       "                 original_title  \\\n",
       "0                Jurassic World   \n",
       "1            Mad Max: Fury Road   \n",
       "2                     Insurgent   \n",
       "3  Star Wars: The Force Awakens   \n",
       "4                     Furious 7   \n",
       "5                  The Revenant   \n",
       "6            Terminator Genisys   \n",
       "7                   The Martian   \n",
       "8                       Minions   \n",
       "9                    Inside Out   \n",
       "\n",
       "                                                cast  \\\n",
       "0  Chris Pratt|Bryce Dallas Howard|Irrfan Khan|Vi...   \n",
       "1  Tom Hardy|Charlize Theron|Hugh Keays-Byrne|Nic...   \n",
       "2  Shailene Woodley|Theo James|Kate Winslet|Ansel...   \n",
       "3  Harrison Ford|Mark Hamill|Carrie Fisher|Adam D...   \n",
       "4  Vin Diesel|Paul Walker|Jason Statham|Michelle ...   \n",
       "5  Leonardo DiCaprio|Tom Hardy|Will Poulter|Domhn...   \n",
       "6  Arnold Schwarzenegger|Jason Clarke|Emilia Clar...   \n",
       "7  Matt Damon|Jessica Chastain|Kristen Wiig|Jeff ...   \n",
       "8  Sandra Bullock|Jon Hamm|Michael Keaton|Allison...   \n",
       "9  Amy Poehler|Phyllis Smith|Richard Kind|Bill Ha...   \n",
       "\n",
       "                                            homepage  \\\n",
       "0                      http://www.jurassicworld.com/   \n",
       "1                        http://www.madmaxmovie.com/   \n",
       "2     http://www.thedivergentseries.movie/#insurgent   \n",
       "3  http://www.starwars.com/films/star-wars-episod...   \n",
       "4                           http://www.furious7.com/   \n",
       "5       http://www.foxmovies.com/movies/the-revenant   \n",
       "6                    http://www.terminatormovie.com/   \n",
       "7        http://www.foxmovies.com/movies/the-martian   \n",
       "8                       http://www.minionsmovie.com/   \n",
       "9                http://movies.disney.com/inside-out   \n",
       "\n",
       "                         director  \\\n",
       "0                 Colin Trevorrow   \n",
       "1                   George Miller   \n",
       "2                Robert Schwentke   \n",
       "3                     J.J. Abrams   \n",
       "4                       James Wan   \n",
       "5  Alejandro GonzÃ¡lez IÃ±Ã¡rritu   \n",
       "6                     Alan Taylor   \n",
       "7                    Ridley Scott   \n",
       "8        Kyle Balda|Pierre Coffin   \n",
       "9                     Pete Docter   \n",
       "\n",
       "                                           tagline  ...  \\\n",
       "0                                The park is open.  ...   \n",
       "1                               What a Lovely Day.  ...   \n",
       "2                       One Choice Can Destroy You  ...   \n",
       "3                    Every generation has a story.  ...   \n",
       "4                              Vengeance Hits Home  ...   \n",
       "5  (n. One who has returned, as if from the dead.)  ...   \n",
       "6                                 Reset the future  ...   \n",
       "7                                   Bring Him Home  ...   \n",
       "8     Before Gru, they had a history of bad bosses  ...   \n",
       "9         Meet the little voices inside your head.  ...   \n",
       "\n",
       "                                            overview runtime  \\\n",
       "0  Twenty-two years after the events of Jurassic ...     124   \n",
       "1  An apocalyptic story set in the furthest reach...     120   \n",
       "2  Beatrice Prior must confront her inner demons ...     119   \n",
       "3  Thirty years after defeating the Galactic Empi...     136   \n",
       "4  Deckard Shaw seeks revenge against Dominic Tor...     137   \n",
       "5  In the 1820s, a frontiersman, Hugh Glass, sets...     156   \n",
       "6  The year is 2029. John Connor, leader of the r...     125   \n",
       "7  During a manned mission to Mars, Astronaut Mar...     141   \n",
       "8  Minions Stuart, Kevin and Bob are recruited by...      91   \n",
       "9  Growing up can be a bumpy road, and it's no ex...      94   \n",
       "\n",
       "                                      genres  \\\n",
       "0  Action|Adventure|Science Fiction|Thriller   \n",
       "1  Action|Adventure|Science Fiction|Thriller   \n",
       "2         Adventure|Science Fiction|Thriller   \n",
       "3   Action|Adventure|Science Fiction|Fantasy   \n",
       "4                      Action|Crime|Thriller   \n",
       "5           Western|Drama|Adventure|Thriller   \n",
       "6  Science Fiction|Action|Thriller|Adventure   \n",
       "7            Drama|Adventure|Science Fiction   \n",
       "8          Family|Animation|Adventure|Comedy   \n",
       "9                    Comedy|Animation|Family   \n",
       "\n",
       "                                production_companies release_date vote_count  \\\n",
       "0  Universal Studios|Amblin Entertainment|Legenda...       6/9/15       5562   \n",
       "1  Village Roadshow Pictures|Kennedy Miller Produ...      5/13/15       6185   \n",
       "2  Summit Entertainment|Mandeville Films|Red Wago...      3/18/15       2480   \n",
       "3          Lucasfilm|Truenorth Productions|Bad Robot     12/15/15       5292   \n",
       "4  Universal Pictures|Original Film|Media Rights ...       4/1/15       2947   \n",
       "5  Regency Enterprises|Appian Way|CatchPlay|Anony...     12/25/15       3929   \n",
       "6            Paramount Pictures|Skydance Productions      6/23/15       2598   \n",
       "7  Twentieth Century Fox Film Corporation|Scott F...      9/30/15       4572   \n",
       "8      Universal Pictures|Illumination Entertainment      6/17/15       2893   \n",
       "9  Walt Disney Pictures|Pixar Animation Studios|W...       6/9/15       3935   \n",
       "\n",
       "   vote_average  release_year    budget_adj   revenue_adj  \n",
       "0           6.5          2015  1.379999e+08  1.392446e+09  \n",
       "1           7.1          2015  1.379999e+08  3.481613e+08  \n",
       "2           6.3          2015  1.012000e+08  2.716190e+08  \n",
       "3           7.5          2015  1.839999e+08  1.902723e+09  \n",
       "4           7.3          2015  1.747999e+08  1.385749e+09  \n",
       "5           7.2          2015  1.241999e+08  4.903142e+08  \n",
       "6           5.8          2015  1.425999e+08  4.053551e+08  \n",
       "7           7.6          2015  9.935996e+07  5.477497e+08  \n",
       "8           6.5          2015  6.807997e+07  1.064192e+09  \n",
       "9           8.0          2015  1.609999e+08  7.854116e+08  \n",
       "\n",
       "[10 rows x 21 columns]"
      ]
     },
     "execution_count": 94,
     "metadata": {},
     "output_type": "execute_result"
    }
   ],
   "source": [
    "# To load data and show its first 10 lines\n",
    "df = pd.read_csv('tmdb-movies.csv')\n",
    "df.head(10)"
   ]
  },
  {
   "cell_type": "markdown",
   "metadata": {},
   "source": [
    "___\n",
    "<a id='Cleaning'></a>\n",
    "\n",
    "## Data Cleaning\n",
    "In this section, we would dive deeper into exploring our dataset and perform cleaning operations like (dropping columns, handling NaNs, converting data types). All of which would help us reach a more accurate result in answering our investigating questions."
   ]
  },
  {
   "cell_type": "code",
   "execution_count": 95,
   "metadata": {},
   "outputs": [
    {
     "name": "stdout",
     "output_type": "stream",
     "text": [
      "<class 'pandas.core.frame.DataFrame'>\n",
      "RangeIndex: 10866 entries, 0 to 10865\n",
      "Data columns (total 21 columns):\n",
      " #   Column                Non-Null Count  Dtype  \n",
      "---  ------                --------------  -----  \n",
      " 0   id                    10866 non-null  int64  \n",
      " 1   imdb_id               10856 non-null  object \n",
      " 2   popularity            10866 non-null  float64\n",
      " 3   budget                10866 non-null  int64  \n",
      " 4   revenue               10866 non-null  int64  \n",
      " 5   original_title        10866 non-null  object \n",
      " 6   cast                  10790 non-null  object \n",
      " 7   homepage              2936 non-null   object \n",
      " 8   director              10822 non-null  object \n",
      " 9   tagline               8042 non-null   object \n",
      " 10  keywords              9373 non-null   object \n",
      " 11  overview              10862 non-null  object \n",
      " 12  runtime               10866 non-null  int64  \n",
      " 13  genres                10843 non-null  object \n",
      " 14  production_companies  9836 non-null   object \n",
      " 15  release_date          10866 non-null  object \n",
      " 16  vote_count            10866 non-null  int64  \n",
      " 17  vote_average          10866 non-null  float64\n",
      " 18  release_year          10866 non-null  int64  \n",
      " 19  budget_adj            10866 non-null  float64\n",
      " 20  revenue_adj           10866 non-null  float64\n",
      "dtypes: float64(4), int64(6), object(11)\n",
      "memory usage: 1.7+ MB\n"
     ]
    }
   ],
   "source": [
    "# printing dataframe columns' info\n",
    "df.info()"
   ]
  },
  {
   "cell_type": "code",
   "execution_count": 96,
   "metadata": {},
   "outputs": [
    {
     "data": {
      "text/plain": [
       "id                      10865\n",
       "imdb_id                 10855\n",
       "popularity              10814\n",
       "budget                    557\n",
       "revenue                  4702\n",
       "original_title          10571\n",
       "cast                    10719\n",
       "homepage                 2896\n",
       "director                 5067\n",
       "tagline                  7997\n",
       "keywords                 8804\n",
       "overview                10847\n",
       "runtime                   247\n",
       "genres                   2039\n",
       "production_companies     7445\n",
       "release_date             5909\n",
       "vote_count               1289\n",
       "vote_average               72\n",
       "release_year               56\n",
       "budget_adj               2614\n",
       "revenue_adj              4840\n",
       "dtype: int64"
      ]
     },
     "execution_count": 96,
     "metadata": {},
     "output_type": "execute_result"
    }
   ],
   "source": [
    "# taking a look at number of unique values\n",
    "df.nunique()"
   ]
  },
  {
   "cell_type": "code",
   "execution_count": 97,
   "metadata": {},
   "outputs": [
    {
     "data": {
      "text/plain": [
       "0        6.5\n",
       "1        7.1\n",
       "2        6.3\n",
       "3        7.5\n",
       "4        7.3\n",
       "        ... \n",
       "10861    7.4\n",
       "10862    5.7\n",
       "10863    6.5\n",
       "10864    5.4\n",
       "10865    1.5\n",
       "Name: vote_average, Length: 10866, dtype: float64"
      ]
     },
     "execution_count": 97,
     "metadata": {},
     "output_type": "execute_result"
    }
   ],
   "source": [
    "# closer look at the vote_average values\n",
    "df.vote_average"
   ]
  },
  {
   "cell_type": "code",
   "execution_count": 98,
   "metadata": {},
   "outputs": [
    {
     "data": {
      "text/plain": [
       "np.int64(1)"
      ]
     },
     "execution_count": 98,
     "metadata": {},
     "output_type": "execute_result"
    }
   ],
   "source": [
    "# calculating duplicated values \n",
    "df.duplicated().sum()"
   ]
  },
  {
   "cell_type": "markdown",
   "metadata": {},
   "source": [
    "\n",
    "#### As we can see from the above output: \n",
    "1. Our dataset consists of a total of 10866 rows and 21 columns.\n",
    "2. We have only 1 duplicated row which would be droped.\n",
    "3. Some columns won't be useful in answering our questions using analysis.\n",
    "4. Few columns have many missing values that needs to be handled.\n",
    "5. Columns `cast` `director` `genres` have values separated with a '|'.\n",
    "6. `release_date`'s data type needs to be casted.\n",
    "7. We can append a column for the movie `profit` using formula $profit = revenue - budget$.\n",
    "8. `vote_average` better be presented as a categorical variable that groups multiple ratings values.\n",
    "9. We may also categorize `profit` column for better EDA"
   ]
  },
  {
   "cell_type": "markdown",
   "metadata": {},
   "source": [
    "___\n",
    "**Start by dropping the duplicated row**"
   ]
  },
  {
   "cell_type": "code",
   "execution_count": 99,
   "metadata": {},
   "outputs": [
    {
     "data": {
      "text/plain": [
       "np.False_"
      ]
     },
     "execution_count": 99,
     "metadata": {},
     "output_type": "execute_result"
    }
   ],
   "source": [
    "# dropping duplicares and validating the excution\n",
    "df.drop_duplicates(inplace = True)\n",
    "df.duplicated().any()"
   ]
  },
  {
   "cell_type": "markdown",
   "metadata": {
    "tags": []
   },
   "source": [
    "___\n",
    "**Check for data frame columns** "
   ]
  },
  {
   "cell_type": "code",
   "execution_count": 100,
   "metadata": {},
   "outputs": [
    {
     "data": {
      "text/plain": [
       "Index(['id', 'imdb_id', 'popularity', 'budget', 'revenue', 'original_title',\n",
       "       'cast', 'homepage', 'director', 'tagline', 'keywords', 'overview',\n",
       "       'runtime', 'genres', 'production_companies', 'release_date',\n",
       "       'vote_count', 'vote_average', 'release_year', 'budget_adj',\n",
       "       'revenue_adj'],\n",
       "      dtype='object')"
      ]
     },
     "execution_count": 100,
     "metadata": {},
     "output_type": "execute_result"
    }
   ],
   "source": [
    "df.columns"
   ]
  },
  {
   "cell_type": "markdown",
   "metadata": {},
   "source": [
    "\n",
    "after going through all the columns, we decided that columns: `id` `imdb_id` `homepage` `revenue_adj` `budget_adj` `tagline` `cast` `overview` `keywords` `production_companies` `director` `release_date` will not be very usefull, so we will drop them and continue with our analysis"
   ]
  },
  {
   "cell_type": "code",
   "execution_count": 101,
   "metadata": {},
   "outputs": [],
   "source": [
    "# dropping unuseful columns\n",
    "df.drop(['id', 'imdb_id', 'homepage', 'revenue_adj', 'budget_adj', 'tagline', 'cast', 'overview', 'keywords', 'production_companies', 'director', 'release_date'], axis = 1, inplace = True)"
   ]
  },
  {
   "cell_type": "code",
   "execution_count": 102,
   "metadata": {},
   "outputs": [
    {
     "data": {
      "text/plain": [
       "(10865, 9)"
      ]
     },
     "execution_count": 102,
     "metadata": {},
     "output_type": "execute_result"
    }
   ],
   "source": [
    "# check for data frame shape\n",
    "df.shape"
   ]
  },
  {
   "cell_type": "markdown",
   "metadata": {},
   "source": [
    "\n",
    "Now we only have 9 columns to start preprocessing on\n",
    "___\n",
    "\n",
    "**Check for null values**"
   ]
  },
  {
   "cell_type": "code",
   "execution_count": 103,
   "metadata": {},
   "outputs": [
    {
     "data": {
      "text/plain": [
       "popularity         0\n",
       "budget             0\n",
       "revenue            0\n",
       "original_title     0\n",
       "runtime            0\n",
       "genres            23\n",
       "vote_count         0\n",
       "vote_average       0\n",
       "release_year       0\n",
       "dtype: int64"
      ]
     },
     "execution_count": 103,
     "metadata": {},
     "output_type": "execute_result"
    }
   ],
   "source": [
    "df.isnull().sum()"
   ]
  },
  {
   "cell_type": "markdown",
   "metadata": {},
   "source": [
    "\n",
    "We can see that all of our columns are clean exept from the `genres` column. Since it is very important to answer our questions, we would drop all its NaNs. \n"
   ]
  },
  {
   "cell_type": "code",
   "execution_count": 104,
   "metadata": {},
   "outputs": [
    {
     "data": {
      "text/plain": [
       "np.int64(0)"
      ]
     },
     "execution_count": 104,
     "metadata": {},
     "output_type": "execute_result"
    }
   ],
   "source": [
    "# dropping NaNs ans confirming excution\n",
    "df.dropna(inplace = True)\n",
    "df.isnull().any().sum()"
   ]
  },
  {
   "cell_type": "markdown",
   "metadata": {},
   "source": [
    "___\n",
    "**Dealing with `genres` column's '|' separated values**\n",
    "\n",
    "We would do our analysis with the first genre for each movie. We're going to take each hybrid row and extract the first genre (before the '|') and save it to our dataframe."
   ]
  },
  {
   "cell_type": "code",
   "execution_count": 105,
   "metadata": {},
   "outputs": [
    {
     "data": {
      "text/html": [
       "<div>\n",
       "<style scoped>\n",
       "    .dataframe tbody tr th:only-of-type {\n",
       "        vertical-align: middle;\n",
       "    }\n",
       "\n",
       "    .dataframe tbody tr th {\n",
       "        vertical-align: top;\n",
       "    }\n",
       "\n",
       "    .dataframe thead th {\n",
       "        text-align: right;\n",
       "    }\n",
       "</style>\n",
       "<table border=\"1\" class=\"dataframe\">\n",
       "  <thead>\n",
       "    <tr style=\"text-align: right;\">\n",
       "      <th></th>\n",
       "      <th>popularity</th>\n",
       "      <th>budget</th>\n",
       "      <th>revenue</th>\n",
       "      <th>original_title</th>\n",
       "      <th>runtime</th>\n",
       "      <th>genres</th>\n",
       "      <th>vote_count</th>\n",
       "      <th>vote_average</th>\n",
       "      <th>release_year</th>\n",
       "    </tr>\n",
       "  </thead>\n",
       "  <tbody>\n",
       "    <tr>\n",
       "      <th>0</th>\n",
       "      <td>32.985763</td>\n",
       "      <td>150000000</td>\n",
       "      <td>1513528810</td>\n",
       "      <td>Jurassic World</td>\n",
       "      <td>124</td>\n",
       "      <td>Action</td>\n",
       "      <td>5562</td>\n",
       "      <td>6.5</td>\n",
       "      <td>2015</td>\n",
       "    </tr>\n",
       "    <tr>\n",
       "      <th>1</th>\n",
       "      <td>28.419936</td>\n",
       "      <td>150000000</td>\n",
       "      <td>378436354</td>\n",
       "      <td>Mad Max: Fury Road</td>\n",
       "      <td>120</td>\n",
       "      <td>Action</td>\n",
       "      <td>6185</td>\n",
       "      <td>7.1</td>\n",
       "      <td>2015</td>\n",
       "    </tr>\n",
       "    <tr>\n",
       "      <th>2</th>\n",
       "      <td>13.112507</td>\n",
       "      <td>110000000</td>\n",
       "      <td>295238201</td>\n",
       "      <td>Insurgent</td>\n",
       "      <td>119</td>\n",
       "      <td>Adventure</td>\n",
       "      <td>2480</td>\n",
       "      <td>6.3</td>\n",
       "      <td>2015</td>\n",
       "    </tr>\n",
       "    <tr>\n",
       "      <th>3</th>\n",
       "      <td>11.173104</td>\n",
       "      <td>200000000</td>\n",
       "      <td>2068178225</td>\n",
       "      <td>Star Wars: The Force Awakens</td>\n",
       "      <td>136</td>\n",
       "      <td>Action</td>\n",
       "      <td>5292</td>\n",
       "      <td>7.5</td>\n",
       "      <td>2015</td>\n",
       "    </tr>\n",
       "    <tr>\n",
       "      <th>4</th>\n",
       "      <td>9.335014</td>\n",
       "      <td>190000000</td>\n",
       "      <td>1506249360</td>\n",
       "      <td>Furious 7</td>\n",
       "      <td>137</td>\n",
       "      <td>Action</td>\n",
       "      <td>2947</td>\n",
       "      <td>7.3</td>\n",
       "      <td>2015</td>\n",
       "    </tr>\n",
       "  </tbody>\n",
       "</table>\n",
       "</div>"
      ],
      "text/plain": [
       "   popularity     budget     revenue                original_title  runtime  \\\n",
       "0   32.985763  150000000  1513528810                Jurassic World      124   \n",
       "1   28.419936  150000000   378436354            Mad Max: Fury Road      120   \n",
       "2   13.112507  110000000   295238201                     Insurgent      119   \n",
       "3   11.173104  200000000  2068178225  Star Wars: The Force Awakens      136   \n",
       "4    9.335014  190000000  1506249360                     Furious 7      137   \n",
       "\n",
       "      genres  vote_count  vote_average  release_year  \n",
       "0     Action        5562           6.5          2015  \n",
       "1     Action        6185           7.1          2015  \n",
       "2  Adventure        2480           6.3          2015  \n",
       "3     Action        5292           7.5          2015  \n",
       "4     Action        2947           7.3          2015  "
      ]
     },
     "execution_count": 105,
     "metadata": {},
     "output_type": "execute_result"
    }
   ],
   "source": [
    "# split values in the hyprid dataframe\n",
    "df['genres'] = df['genres'].apply(lambda x: x.split(\"|\")[0])\n",
    "df.head()"
   ]
  },
  {
   "cell_type": "markdown",
   "metadata": {},
   "source": [
    "___\n",
    "**Calculating movie profit. $profit = revenue - budget$**"
   ]
  },
  {
   "cell_type": "code",
   "execution_count": 106,
   "metadata": {},
   "outputs": [
    {
     "data": {
      "text/html": [
       "<div>\n",
       "<style scoped>\n",
       "    .dataframe tbody tr th:only-of-type {\n",
       "        vertical-align: middle;\n",
       "    }\n",
       "\n",
       "    .dataframe tbody tr th {\n",
       "        vertical-align: top;\n",
       "    }\n",
       "\n",
       "    .dataframe thead th {\n",
       "        text-align: right;\n",
       "    }\n",
       "</style>\n",
       "<table border=\"1\" class=\"dataframe\">\n",
       "  <thead>\n",
       "    <tr style=\"text-align: right;\">\n",
       "      <th></th>\n",
       "      <th>popularity</th>\n",
       "      <th>budget</th>\n",
       "      <th>revenue</th>\n",
       "      <th>original_title</th>\n",
       "      <th>runtime</th>\n",
       "      <th>genres</th>\n",
       "      <th>vote_count</th>\n",
       "      <th>vote_average</th>\n",
       "      <th>release_year</th>\n",
       "      <th>profit</th>\n",
       "    </tr>\n",
       "  </thead>\n",
       "  <tbody>\n",
       "    <tr>\n",
       "      <th>0</th>\n",
       "      <td>32.985763</td>\n",
       "      <td>150000000</td>\n",
       "      <td>1513528810</td>\n",
       "      <td>Jurassic World</td>\n",
       "      <td>124</td>\n",
       "      <td>Action</td>\n",
       "      <td>5562</td>\n",
       "      <td>6.5</td>\n",
       "      <td>2015</td>\n",
       "      <td>1363528810</td>\n",
       "    </tr>\n",
       "    <tr>\n",
       "      <th>1</th>\n",
       "      <td>28.419936</td>\n",
       "      <td>150000000</td>\n",
       "      <td>378436354</td>\n",
       "      <td>Mad Max: Fury Road</td>\n",
       "      <td>120</td>\n",
       "      <td>Action</td>\n",
       "      <td>6185</td>\n",
       "      <td>7.1</td>\n",
       "      <td>2015</td>\n",
       "      <td>228436354</td>\n",
       "    </tr>\n",
       "    <tr>\n",
       "      <th>2</th>\n",
       "      <td>13.112507</td>\n",
       "      <td>110000000</td>\n",
       "      <td>295238201</td>\n",
       "      <td>Insurgent</td>\n",
       "      <td>119</td>\n",
       "      <td>Adventure</td>\n",
       "      <td>2480</td>\n",
       "      <td>6.3</td>\n",
       "      <td>2015</td>\n",
       "      <td>185238201</td>\n",
       "    </tr>\n",
       "    <tr>\n",
       "      <th>3</th>\n",
       "      <td>11.173104</td>\n",
       "      <td>200000000</td>\n",
       "      <td>2068178225</td>\n",
       "      <td>Star Wars: The Force Awakens</td>\n",
       "      <td>136</td>\n",
       "      <td>Action</td>\n",
       "      <td>5292</td>\n",
       "      <td>7.5</td>\n",
       "      <td>2015</td>\n",
       "      <td>1868178225</td>\n",
       "    </tr>\n",
       "    <tr>\n",
       "      <th>4</th>\n",
       "      <td>9.335014</td>\n",
       "      <td>190000000</td>\n",
       "      <td>1506249360</td>\n",
       "      <td>Furious 7</td>\n",
       "      <td>137</td>\n",
       "      <td>Action</td>\n",
       "      <td>2947</td>\n",
       "      <td>7.3</td>\n",
       "      <td>2015</td>\n",
       "      <td>1316249360</td>\n",
       "    </tr>\n",
       "  </tbody>\n",
       "</table>\n",
       "</div>"
      ],
      "text/plain": [
       "   popularity     budget     revenue                original_title  runtime  \\\n",
       "0   32.985763  150000000  1513528810                Jurassic World      124   \n",
       "1   28.419936  150000000   378436354            Mad Max: Fury Road      120   \n",
       "2   13.112507  110000000   295238201                     Insurgent      119   \n",
       "3   11.173104  200000000  2068178225  Star Wars: The Force Awakens      136   \n",
       "4    9.335014  190000000  1506249360                     Furious 7      137   \n",
       "\n",
       "      genres  vote_count  vote_average  release_year      profit  \n",
       "0     Action        5562           6.5          2015  1363528810  \n",
       "1     Action        6185           7.1          2015   228436354  \n",
       "2  Adventure        2480           6.3          2015   185238201  \n",
       "3     Action        5292           7.5          2015  1868178225  \n",
       "4     Action        2947           7.3          2015  1316249360  "
      ]
     },
     "execution_count": 106,
     "metadata": {},
     "output_type": "execute_result"
    }
   ],
   "source": [
    "# adding new column for movie profit (revenue - budget)\n",
    "df['profit'] = df.revenue - df.budget\n",
    "df.head()"
   ]
  },
  {
   "cell_type": "markdown",
   "metadata": {},
   "source": [
    "___\n",
    "**Catigorizing `vote_average` `profit_adj` columns**\n",
    "\n",
    "For usability and functionality sake, we would convert these columns using a function."
   ]
  },
  {
   "cell_type": "code",
   "execution_count": null,
   "metadata": {},
   "outputs": [],
   "source": [
    "def categorize_col (df, col, labels):\n",
    "    \"\"\"\n",
    "    categorizes a certain column based on its quartiles\n",
    "   \n",
    "    Args:\n",
    "        (df)     df   - dataframe we are proccesing\n",
    "        (col)    str  - to be categorized column's name \n",
    "        (labels) list - list of labels from min to max\n",
    "    \n",
    "    Returns:\n",
    "        (df)     df   - dataframe with the categorized col\n",
    "    \"\"\"\n",
    "    \n",
    "    # setting the edges to cut the column accordingly\n",
    "    edges = [df[col].describe()['min'],\n",
    "             df[col].describe()['25%'],\n",
    "             df[col].describe()['50%'],\n",
    "             df[col].describe()['75%'],\n",
    "             df[col].describe()['max']]\n",
    "    \n",
    "    df[col] = pd.cut(df[col], edges, labels = labels, duplicates='drop')\n",
    "    return df\n",
    "    "
   ]
  },
  {
   "cell_type": "markdown",
   "metadata": {},
   "source": [
    "___\n",
    "**Converting `vote_average` into a categorical variable** "
   ]
  },
  {
   "cell_type": "markdown",
   "metadata": {},
   "source": [
    "We would cut the `vote_average` values and make 4 categories: `popular` `average` `below_avg` `not_popular` to describe it more using `categorize_col()` function provided above."
   ]
  },
  {
   "cell_type": "code",
   "execution_count": null,
   "metadata": {},
   "outputs": [
    {
     "data": {
      "text/plain": [
       "['average', 'popular', 'below_avg', 'not_popular', NaN]\n",
       "Categories (4, object): ['not_popular' < 'below_avg' < 'average' < 'popular']"
      ]
     },
     "execution_count": 108,
     "metadata": {},
     "output_type": "execute_result"
    }
   ],
   "source": [
    "# define labels for these edges\n",
    "labels = ['not_popular', 'below_avg', 'average', 'popular']\n",
    "categorize_col(df, 'vote_average', labels)\n",
    "\n",
    "df['vote_average'].unique()"
   ]
  },
  {
   "cell_type": "markdown",
   "metadata": {},
   "source": [
    "We endded up with some NaNs, so wo would drop them."
   ]
  },
  {
   "cell_type": "code",
   "execution_count": 109,
   "metadata": {},
   "outputs": [
    {
     "data": {
      "text/plain": [
       "popularity        0\n",
       "budget            0\n",
       "revenue           0\n",
       "original_title    0\n",
       "runtime           0\n",
       "genres            0\n",
       "vote_count        0\n",
       "vote_average      0\n",
       "release_year      0\n",
       "profit            0\n",
       "dtype: int64"
      ]
     },
     "execution_count": 109,
     "metadata": {},
     "output_type": "execute_result"
    }
   ],
   "source": [
    "# dropping nans and confirming\n",
    "df.dropna(inplace = True)\n",
    "df.isnull().sum()"
   ]
  },
  {
   "cell_type": "markdown",
   "metadata": {},
   "source": [
    "___\n",
    "**Converting `profit` into a categorical variable** "
   ]
  },
  {
   "cell_type": "markdown",
   "metadata": {},
   "source": [
    "We would cut the `profit` values and make 3 categories: `high` `average` `low` to describe it more using `categorize_col()` function provided above."
   ]
  },
  {
   "cell_type": "code",
   "execution_count": null,
   "metadata": {},
   "outputs": [
    {
     "data": {
      "text/plain": [
       "['high', 'average', 'low', NaN]\n",
       "Categories (3, object): ['low' < 'average' < 'high']"
      ]
     },
     "execution_count": 110,
     "metadata": {},
     "output_type": "execute_result"
    }
   ],
   "source": [
    "# define labels for these edges\n",
    "labels = ['low', 'average', 'high']\n",
    "categorize_col(df, 'profit', labels)\n",
    "\n",
    "df['profit'].unique()"
   ]
  },
  {
   "cell_type": "code",
   "execution_count": 111,
   "metadata": {},
   "outputs": [
    {
     "data": {
      "text/plain": [
       "np.int64(1)"
      ]
     },
     "execution_count": 111,
     "metadata": {},
     "output_type": "execute_result"
    }
   ],
   "source": [
    "df.profit.isnull().sum()"
   ]
  },
  {
   "cell_type": "markdown",
   "metadata": {},
   "source": [
    "We endded up with one NaN value, wich we will drop"
   ]
  },
  {
   "cell_type": "code",
   "execution_count": 112,
   "metadata": {},
   "outputs": [
    {
     "data": {
      "text/plain": [
       "popularity        0\n",
       "budget            0\n",
       "revenue           0\n",
       "original_title    0\n",
       "runtime           0\n",
       "genres            0\n",
       "vote_count        0\n",
       "vote_average      0\n",
       "release_year      0\n",
       "profit            0\n",
       "dtype: int64"
      ]
     },
     "execution_count": 112,
     "metadata": {},
     "output_type": "execute_result"
    }
   ],
   "source": [
    "# dropping NaNs in profic column and confirming\n",
    "df.dropna(inplace = True)\n",
    "df.isnull().sum()"
   ]
  },
  {
   "cell_type": "markdown",
   "metadata": {},
   "source": [
    "___"
   ]
  },
  {
   "cell_type": "code",
   "execution_count": 113,
   "metadata": {},
   "outputs": [
    {
     "data": {
      "text/html": [
       "<div>\n",
       "<style scoped>\n",
       "    .dataframe tbody tr th:only-of-type {\n",
       "        vertical-align: middle;\n",
       "    }\n",
       "\n",
       "    .dataframe tbody tr th {\n",
       "        vertical-align: top;\n",
       "    }\n",
       "\n",
       "    .dataframe thead th {\n",
       "        text-align: right;\n",
       "    }\n",
       "</style>\n",
       "<table border=\"1\" class=\"dataframe\">\n",
       "  <thead>\n",
       "    <tr style=\"text-align: right;\">\n",
       "      <th></th>\n",
       "      <th>popularity</th>\n",
       "      <th>budget</th>\n",
       "      <th>revenue</th>\n",
       "      <th>original_title</th>\n",
       "      <th>runtime</th>\n",
       "      <th>genres</th>\n",
       "      <th>vote_count</th>\n",
       "      <th>vote_average</th>\n",
       "      <th>release_year</th>\n",
       "      <th>profit</th>\n",
       "    </tr>\n",
       "  </thead>\n",
       "  <tbody>\n",
       "    <tr>\n",
       "      <th>0</th>\n",
       "      <td>32.985763</td>\n",
       "      <td>150000000</td>\n",
       "      <td>1513528810</td>\n",
       "      <td>Jurassic World</td>\n",
       "      <td>124</td>\n",
       "      <td>Action</td>\n",
       "      <td>5562</td>\n",
       "      <td>average</td>\n",
       "      <td>2015</td>\n",
       "      <td>high</td>\n",
       "    </tr>\n",
       "    <tr>\n",
       "      <th>1</th>\n",
       "      <td>28.419936</td>\n",
       "      <td>150000000</td>\n",
       "      <td>378436354</td>\n",
       "      <td>Mad Max: Fury Road</td>\n",
       "      <td>120</td>\n",
       "      <td>Action</td>\n",
       "      <td>6185</td>\n",
       "      <td>popular</td>\n",
       "      <td>2015</td>\n",
       "      <td>high</td>\n",
       "    </tr>\n",
       "    <tr>\n",
       "      <th>2</th>\n",
       "      <td>13.112507</td>\n",
       "      <td>110000000</td>\n",
       "      <td>295238201</td>\n",
       "      <td>Insurgent</td>\n",
       "      <td>119</td>\n",
       "      <td>Adventure</td>\n",
       "      <td>2480</td>\n",
       "      <td>average</td>\n",
       "      <td>2015</td>\n",
       "      <td>high</td>\n",
       "    </tr>\n",
       "    <tr>\n",
       "      <th>3</th>\n",
       "      <td>11.173104</td>\n",
       "      <td>200000000</td>\n",
       "      <td>2068178225</td>\n",
       "      <td>Star Wars: The Force Awakens</td>\n",
       "      <td>136</td>\n",
       "      <td>Action</td>\n",
       "      <td>5292</td>\n",
       "      <td>popular</td>\n",
       "      <td>2015</td>\n",
       "      <td>high</td>\n",
       "    </tr>\n",
       "    <tr>\n",
       "      <th>4</th>\n",
       "      <td>9.335014</td>\n",
       "      <td>190000000</td>\n",
       "      <td>1506249360</td>\n",
       "      <td>Furious 7</td>\n",
       "      <td>137</td>\n",
       "      <td>Action</td>\n",
       "      <td>2947</td>\n",
       "      <td>popular</td>\n",
       "      <td>2015</td>\n",
       "      <td>high</td>\n",
       "    </tr>\n",
       "  </tbody>\n",
       "</table>\n",
       "</div>"
      ],
      "text/plain": [
       "   popularity     budget     revenue                original_title  runtime  \\\n",
       "0   32.985763  150000000  1513528810                Jurassic World      124   \n",
       "1   28.419936  150000000   378436354            Mad Max: Fury Road      120   \n",
       "2   13.112507  110000000   295238201                     Insurgent      119   \n",
       "3   11.173104  200000000  2068178225  Star Wars: The Force Awakens      136   \n",
       "4    9.335014  190000000  1506249360                     Furious 7      137   \n",
       "\n",
       "      genres  vote_count vote_average  release_year profit  \n",
       "0     Action        5562      average          2015   high  \n",
       "1     Action        6185      popular          2015   high  \n",
       "2  Adventure        2480      average          2015   high  \n",
       "3     Action        5292      popular          2015   high  \n",
       "4     Action        2947      popular          2015   high  "
      ]
     },
     "execution_count": 113,
     "metadata": {},
     "output_type": "execute_result"
    }
   ],
   "source": [
    "df.head()"
   ]
  },
  {
   "cell_type": "code",
   "execution_count": 114,
   "metadata": {},
   "outputs": [
    {
     "name": "stdout",
     "output_type": "stream",
     "text": [
      "<class 'pandas.core.frame.DataFrame'>\n",
      "Index: 10839 entries, 0 to 10864\n",
      "Data columns (total 10 columns):\n",
      " #   Column          Non-Null Count  Dtype   \n",
      "---  ------          --------------  -----   \n",
      " 0   popularity      10839 non-null  float64 \n",
      " 1   budget          10839 non-null  int64   \n",
      " 2   revenue         10839 non-null  int64   \n",
      " 3   original_title  10839 non-null  object  \n",
      " 4   runtime         10839 non-null  int64   \n",
      " 5   genres          10839 non-null  object  \n",
      " 6   vote_count      10839 non-null  int64   \n",
      " 7   vote_average    10839 non-null  category\n",
      " 8   release_year    10839 non-null  int64   \n",
      " 9   profit          10839 non-null  category\n",
      "dtypes: category(2), float64(1), int64(5), object(2)\n",
      "memory usage: 783.6+ KB\n"
     ]
    }
   ],
   "source": [
    "df.info()"
   ]
  },
  {
   "cell_type": "markdown",
   "metadata": {},
   "source": [
    "Now that we finished our data cleaning, our dataset consists of 10840 records with 10 columns, it has no duplicates nor null values, and the data types are consistant with suitable categorical variable to address our questions. We are ready to move to the next step!\n",
    "___"
   ]
  },
  {
   "cell_type": "markdown",
   "metadata": {
    "tags": []
   },
   "source": [
    "<a id='eda'></a>\n",
    "## Exploratory Data Analysis\n",
    "In this section, we would use describtive statistics and visuals to address the following questions regarding our dataset"
   ]
  },
  {
   "cell_type": "markdown",
   "metadata": {},
   "source": [
    "### Q1: Do movies with high popularity achive high revenvue?"
   ]
  },
  {
   "cell_type": "code",
   "execution_count": 115,
   "metadata": {},
   "outputs": [
    {
     "data": {
      "text/plain": [
       "np.float64(0.6476021913460651)"
      ]
     },
     "execution_count": 115,
     "metadata": {},
     "output_type": "execute_result"
    }
   ],
   "source": [
    "# get median of popularity to compare with\n",
    "df['popularity'].mean()"
   ]
  },
  {
   "cell_type": "code",
   "execution_count": 116,
   "metadata": {},
   "outputs": [],
   "source": [
    "# split popular movies into two groups around the median\n",
    "less_popular = df.query('popularity <= 0.647')\n",
    "more_popular = df.query('popularity >  0.647')"
   ]
  },
  {
   "cell_type": "code",
   "execution_count": 117,
   "metadata": {},
   "outputs": [
    {
     "name": "stdout",
     "output_type": "stream",
     "text": [
      "7689823.871224779 121933819.08567691\n"
     ]
    }
   ],
   "source": [
    "# get mean quality revenue for the less and more popularity groups\n",
    "print(less_popular.revenue.mean(), more_popular.revenue.mean())"
   ]
  },
  {
   "cell_type": "markdown",
   "metadata": {},
   "source": [
    "From the above calculations, it's very clear that more popular movies recieve way more revenue than the less popular movies.\n",
    "___"
   ]
  },
  {
   "cell_type": "markdown",
   "metadata": {},
   "source": [
    "### Q2: What are the most filmed genres in this whole dataset?"
   ]
  },
  {
   "cell_type": "code",
   "execution_count": 118,
   "metadata": {},
   "outputs": [
    {
     "data": {
      "image/png": "[encoded data removed]",
      "text/plain": [
       "<Figure size 800x500 with 1 Axes>"
      ]
     },
     "metadata": {},
     "output_type": "display_data"
    }
   ],
   "source": [
    "# visualising genres distribution\n",
    "plt.figure(figsize=(8,5))\n",
    "df['genres'].value_counts().plot(kind=\"bar\")\n",
    "plt.title(\"The most filmed genres\", fontsize=(10))\n",
    "plt.xlabel(\"genres\", fontsize=10)\n",
    "plt.ylabel(\"Count\",fontsize=10)\n",
    "plt.show()"
   ]
  },
  {
   "cell_type": "code",
   "execution_count": 119,
   "metadata": {},
   "outputs": [
    {
     "data": {
      "text/plain": [
       "count     10839\n",
       "unique       20\n",
       "top       Drama\n",
       "freq       2453\n",
       "Name: genres, dtype: object"
      ]
     },
     "execution_count": 119,
     "metadata": {},
     "output_type": "execute_result"
    }
   ],
   "source": [
    "df['genres'].describe()"
   ]
  },
  {
   "cell_type": "markdown",
   "metadata": {},
   "source": [
    "From the above graph, we can see that `Drama`, `Comedy` and `Action` are the most three filmed genres in total of 10839 movies in our dataset, and that `Drama` genre appears in 22.6% of the movies in our dataset.\n",
    "___"
   ]
  },
  {
   "cell_type": "markdown",
   "metadata": {},
   "source": [
    "### Q3: Is there a correlation between a movie budget and its revenue?"
   ]
  },
  {
   "cell_type": "code",
   "execution_count": 120,
   "metadata": {},
   "outputs": [
    {
     "data": {
      "image/png": "[encoded data removed]",
      "text/plain": [
       "<Figure size 640x480 with 1 Axes>"
      ]
     },
     "metadata": {},
     "output_type": "display_data"
    }
   ],
   "source": [
    "# plotting budget against revenue\n",
    "plt.scatter(df['budget'],df['revenue']);\n",
    "plt.title(\"movie budget against its revenue\");\n",
    "plt.xlabel('budget', fontsize=10);\n",
    "plt.ylabel('revenue',fontsize=10);"
   ]
  },
  {
   "cell_type": "markdown",
   "metadata": {},
   "source": [
    "We can notice the positive correlation between `budget` and `revenue`, indecating a relation between them with little outliers. \n",
    "___"
   ]
  },
  {
   "cell_type": "markdown",
   "metadata": {
    "tags": []
   },
   "source": [
    "<a id='conclusions'></a>\n",
    "## Conclusions\n",
    "\n",
    "### Q1: Do movies with high popularity achive high revenvue?\n",
    "> More popular movies receive way more revenue than the less popular movies.\n",
    "### Q2: What are the most filmed genres in this whole dataset?\n",
    "> `Drama`, `Comedy` and `Action` are the most three filmed genres in total of 10839 movies in our dataset, and that `Drama` genre is filmed 22.6% of the times on our dataset.\n",
    "### Q3: Is there a correlation between a movie budget and its revenue?\n",
    "> There is positive correlation between `budget` and `revenue`, indicating a relation between them with little outliers. \n",
    "___\n"
   ]
  }
 ],
 "metadata": {
  "kernelspec": {
   "display_name": "Python 3",
   "language": "python",
   "name": "python3"
  },
  "language_info": {
   "codemirror_mode": {
    "name": "ipython",
    "version": 3
   },
   "file_extension": ".py",
   "mimetype": "text/x-python",
   "name": "python",
   "nbconvert_exporter": "python",
   "pygments_lexer": "ipython3",
   "version": "3.13.1"
  }
 },
 "nbformat": 4,
 "nbformat_minor": 4
}
